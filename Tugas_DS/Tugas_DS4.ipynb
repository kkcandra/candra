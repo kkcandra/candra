{
  "nbformat": 4,
  "nbformat_minor": 0,
  "metadata": {
    "colab": {
      "provenance": [],
      "include_colab_link": true
    },
    "kernelspec": {
      "name": "python3",
      "display_name": "Python 3"
    },
    "language_info": {
      "name": "python"
    }
  },
  "cells": [
    {
      "cell_type": "markdown",
      "metadata": {
        "id": "view-in-github",
        "colab_type": "text"
      },
      "source": [
        "<a href=\"https://colab.research.google.com/github/kkcandra/candra/blob/main/Tugas_DS/Tugas_DS4.ipynb\" target=\"_parent\"><img src=\"https://colab.research.google.com/assets/colab-badge.svg\" alt=\"Open In Colab\"/></a>"
      ]
    },
    {
      "cell_type": "code",
      "source": [
        "from google.colab import files\n",
        "uploaded = files.upload()"
      ],
      "metadata": {
        "colab": {
          "base_uri": "https://localhost:8080/",
          "height": 73
        },
        "id": "-08HPd5vceBi",
        "outputId": "172f82f0-4869-4e1f-ea9c-263917015a15"
      },
      "execution_count": null,
      "outputs": [
        {
          "output_type": "display_data",
          "data": {
            "text/plain": [
              "<IPython.core.display.HTML object>"
            ],
            "text/html": [
              "\n",
              "     <input type=\"file\" id=\"files-d543a11b-1e14-44e1-9844-d251c08ee2e5\" name=\"files[]\" multiple disabled\n",
              "        style=\"border:none\" />\n",
              "     <output id=\"result-d543a11b-1e14-44e1-9844-d251c08ee2e5\">\n",
              "      Upload widget is only available when the cell has been executed in the\n",
              "      current browser session. Please rerun this cell to enable.\n",
              "      </output>\n",
              "      <script>// Copyright 2017 Google LLC\n",
              "//\n",
              "// Licensed under the Apache License, Version 2.0 (the \"License\");\n",
              "// you may not use this file except in compliance with the License.\n",
              "// You may obtain a copy of the License at\n",
              "//\n",
              "//      http://www.apache.org/licenses/LICENSE-2.0\n",
              "//\n",
              "// Unless required by applicable law or agreed to in writing, software\n",
              "// distributed under the License is distributed on an \"AS IS\" BASIS,\n",
              "// WITHOUT WARRANTIES OR CONDITIONS OF ANY KIND, either express or implied.\n",
              "// See the License for the specific language governing permissions and\n",
              "// limitations under the License.\n",
              "\n",
              "/**\n",
              " * @fileoverview Helpers for google.colab Python module.\n",
              " */\n",
              "(function(scope) {\n",
              "function span(text, styleAttributes = {}) {\n",
              "  const element = document.createElement('span');\n",
              "  element.textContent = text;\n",
              "  for (const key of Object.keys(styleAttributes)) {\n",
              "    element.style[key] = styleAttributes[key];\n",
              "  }\n",
              "  return element;\n",
              "}\n",
              "\n",
              "// Max number of bytes which will be uploaded at a time.\n",
              "const MAX_PAYLOAD_SIZE = 100 * 1024;\n",
              "\n",
              "function _uploadFiles(inputId, outputId) {\n",
              "  const steps = uploadFilesStep(inputId, outputId);\n",
              "  const outputElement = document.getElementById(outputId);\n",
              "  // Cache steps on the outputElement to make it available for the next call\n",
              "  // to uploadFilesContinue from Python.\n",
              "  outputElement.steps = steps;\n",
              "\n",
              "  return _uploadFilesContinue(outputId);\n",
              "}\n",
              "\n",
              "// This is roughly an async generator (not supported in the browser yet),\n",
              "// where there are multiple asynchronous steps and the Python side is going\n",
              "// to poll for completion of each step.\n",
              "// This uses a Promise to block the python side on completion of each step,\n",
              "// then passes the result of the previous step as the input to the next step.\n",
              "function _uploadFilesContinue(outputId) {\n",
              "  const outputElement = document.getElementById(outputId);\n",
              "  const steps = outputElement.steps;\n",
              "\n",
              "  const next = steps.next(outputElement.lastPromiseValue);\n",
              "  return Promise.resolve(next.value.promise).then((value) => {\n",
              "    // Cache the last promise value to make it available to the next\n",
              "    // step of the generator.\n",
              "    outputElement.lastPromiseValue = value;\n",
              "    return next.value.response;\n",
              "  });\n",
              "}\n",
              "\n",
              "/**\n",
              " * Generator function which is called between each async step of the upload\n",
              " * process.\n",
              " * @param {string} inputId Element ID of the input file picker element.\n",
              " * @param {string} outputId Element ID of the output display.\n",
              " * @return {!Iterable<!Object>} Iterable of next steps.\n",
              " */\n",
              "function* uploadFilesStep(inputId, outputId) {\n",
              "  const inputElement = document.getElementById(inputId);\n",
              "  inputElement.disabled = false;\n",
              "\n",
              "  const outputElement = document.getElementById(outputId);\n",
              "  outputElement.innerHTML = '';\n",
              "\n",
              "  const pickedPromise = new Promise((resolve) => {\n",
              "    inputElement.addEventListener('change', (e) => {\n",
              "      resolve(e.target.files);\n",
              "    });\n",
              "  });\n",
              "\n",
              "  const cancel = document.createElement('button');\n",
              "  inputElement.parentElement.appendChild(cancel);\n",
              "  cancel.textContent = 'Cancel upload';\n",
              "  const cancelPromise = new Promise((resolve) => {\n",
              "    cancel.onclick = () => {\n",
              "      resolve(null);\n",
              "    };\n",
              "  });\n",
              "\n",
              "  // Wait for the user to pick the files.\n",
              "  const files = yield {\n",
              "    promise: Promise.race([pickedPromise, cancelPromise]),\n",
              "    response: {\n",
              "      action: 'starting',\n",
              "    }\n",
              "  };\n",
              "\n",
              "  cancel.remove();\n",
              "\n",
              "  // Disable the input element since further picks are not allowed.\n",
              "  inputElement.disabled = true;\n",
              "\n",
              "  if (!files) {\n",
              "    return {\n",
              "      response: {\n",
              "        action: 'complete',\n",
              "      }\n",
              "    };\n",
              "  }\n",
              "\n",
              "  for (const file of files) {\n",
              "    const li = document.createElement('li');\n",
              "    li.append(span(file.name, {fontWeight: 'bold'}));\n",
              "    li.append(span(\n",
              "        `(${file.type || 'n/a'}) - ${file.size} bytes, ` +\n",
              "        `last modified: ${\n",
              "            file.lastModifiedDate ? file.lastModifiedDate.toLocaleDateString() :\n",
              "                                    'n/a'} - `));\n",
              "    const percent = span('0% done');\n",
              "    li.appendChild(percent);\n",
              "\n",
              "    outputElement.appendChild(li);\n",
              "\n",
              "    const fileDataPromise = new Promise((resolve) => {\n",
              "      const reader = new FileReader();\n",
              "      reader.onload = (e) => {\n",
              "        resolve(e.target.result);\n",
              "      };\n",
              "      reader.readAsArrayBuffer(file);\n",
              "    });\n",
              "    // Wait for the data to be ready.\n",
              "    let fileData = yield {\n",
              "      promise: fileDataPromise,\n",
              "      response: {\n",
              "        action: 'continue',\n",
              "      }\n",
              "    };\n",
              "\n",
              "    // Use a chunked sending to avoid message size limits. See b/62115660.\n",
              "    let position = 0;\n",
              "    do {\n",
              "      const length = Math.min(fileData.byteLength - position, MAX_PAYLOAD_SIZE);\n",
              "      const chunk = new Uint8Array(fileData, position, length);\n",
              "      position += length;\n",
              "\n",
              "      const base64 = btoa(String.fromCharCode.apply(null, chunk));\n",
              "      yield {\n",
              "        response: {\n",
              "          action: 'append',\n",
              "          file: file.name,\n",
              "          data: base64,\n",
              "        },\n",
              "      };\n",
              "\n",
              "      let percentDone = fileData.byteLength === 0 ?\n",
              "          100 :\n",
              "          Math.round((position / fileData.byteLength) * 100);\n",
              "      percent.textContent = `${percentDone}% done`;\n",
              "\n",
              "    } while (position < fileData.byteLength);\n",
              "  }\n",
              "\n",
              "  // All done.\n",
              "  yield {\n",
              "    response: {\n",
              "      action: 'complete',\n",
              "    }\n",
              "  };\n",
              "}\n",
              "\n",
              "scope.google = scope.google || {};\n",
              "scope.google.colab = scope.google.colab || {};\n",
              "scope.google.colab._files = {\n",
              "  _uploadFiles,\n",
              "  _uploadFilesContinue,\n",
              "};\n",
              "})(self);\n",
              "</script> "
            ]
          },
          "metadata": {}
        },
        {
          "output_type": "stream",
          "name": "stdout",
          "text": [
            "Saving Appel.webp to Appel.webp\n"
          ]
        }
      ]
    },
    {
      "cell_type": "code",
      "source": [
        "from PIL import Image\n",
        "\n",
        "# Load gambar buah apel\n",
        "apple_image = Image.open(\"Appel.webp\")\n",
        "\n",
        "# Konversi gambar menjadi matriks numpy\n",
        "apple_array = np.array(apple_image)\n",
        "\n",
        "# Periksa dimensi matriks\n",
        "print(\"Dimensi matriks gambar:\", apple_array.shape)\n"
      ],
      "metadata": {
        "colab": {
          "base_uri": "https://localhost:8080/"
        },
        "id": "FgC7l-pQggx4",
        "outputId": "0e6cbbf6-94fd-455e-b95d-771727cc450c"
      },
      "execution_count": null,
      "outputs": [
        {
          "output_type": "stream",
          "name": "stdout",
          "text": [
            "Dimensi matriks gambar: (574, 600, 3)\n"
          ]
        }
      ]
    },
    {
      "cell_type": "code",
      "source": [
        "import numpy as np\n",
        "import matplotlib.pyplot as plt\n",
        "\n",
        "# Matriks citra\n",
        "citra1 = np.array([[3, 3, 3],[2, 1, 2],[2, 1, 3],[0, 0, 1],\n",
        "                   [2, 1, 0],[3, 1, 0],[1, 0, 3],[3, 1, 2],\n",
        "                   [3, 0, 1],[3, 3, 2],[1, 1, 1],[0, 1, 3]])\n",
        "\n",
        "# Konversi ke citra grayscale menggunakan standar NTSC\n",
        "gray_citra1 = 0.299 * citra1[:, 0] + 0.587 * citra1[:, 1] + 0.114 * citra1[:, 2]\n",
        "\n",
        "# Ubah bentuk matriks menjadi gambar\n",
        "gray_image = gray_citra1.reshape((len(citra1), 1))\n",
        "\n",
        "# Gambarkan matriks citra grayscale\n",
        "plt.imshow(gray_image, cmap='gray')\n",
        "plt.axis('off')\n",
        "plt.title('Citra Grayscale')\n",
        "plt.show()\n"
      ],
      "metadata": {
        "colab": {
          "base_uri": "https://localhost:8080/",
          "height": 428
        },
        "id": "dEl1SoGMhRmN",
        "outputId": "b2bea12c-cf7f-43ae-a71f-2c389ea2fccd"
      },
      "execution_count": null,
      "outputs": [
        {
          "output_type": "display_data",
          "data": {
            "text/plain": [
              "<Figure size 640x480 with 1 Axes>"
            ],
            "image/png": "[encoded data removed]"
          },
          "metadata": {}
        }
      ]
    },
    {
      "cell_type": "code",
      "source": [
        "import numpy as np\n",
        "import matplotlib.pyplot as plt\n",
        "\n",
        "# Matriks citra 1\n",
        "citra1 = np.array([[3, 2, 0, 3],\n",
        "                   [1, 2, 2, 0],\n",
        "                   [0, 2, 0, 0],\n",
        "                   [2, 3, 2, 3]])\n",
        "\n",
        "# Mengubah matriks citra 1 menjadi satu dimensi\n",
        "citra1_flat = citra1.flatten()\n",
        "\n",
        "# Menghitung kemunculan setiap nilai\n",
        "unique_values, counts = np.unique(citra1_flat, return_counts=True)\n",
        "\n",
        "# Membuat histogram\n",
        "plt.bar(unique_values, counts, color='blue')\n",
        "\n",
        "# Menambahkan label pada sumbu x dan y\n",
        "plt.xlabel('Nilai')\n",
        "plt.ylabel('Frekuensi')\n",
        "\n",
        "# Menambahkan judul\n",
        "plt.title('Histogram Warna Citra 1')\n",
        "\n",
        "# Menampilkan histogram\n",
        "plt.show()\n"
      ],
      "metadata": {
        "colab": {
          "base_uri": "https://localhost:8080/",
          "height": 472
        },
        "id": "eHARFZ8bndPB",
        "outputId": "4d22f992-e1e7-4816-91de-4904b406ad92"
      },
      "execution_count": null,
      "outputs": [
        {
          "output_type": "display_data",
          "data": {
            "text/plain": [
              "<Figure size 640x480 with 1 Axes>"
            ],
            "image/png": "[encoded data removed]"
          },
          "metadata": {}
        }
      ]
    },
    {
      "cell_type": "code",
      "source": [
        "from scipy.spatial import distance\n",
        "\n",
        "# Citra 2 dan 3\n",
        "citra2 = np.array([[2, 2, 0, 3],\n",
        "                   [2, 2, 2, 0],\n",
        "                   [2, 1, 0, 0],\n",
        "                   [2, 1, 2, 3]])\n",
        "\n",
        "citra3 = np.array([[1, 2, 0, 2],\n",
        "                   [1, 1, 2, 0],\n",
        "                   [0, 1, 1, 0],\n",
        "                   [2, 3, 1, 1]])\n",
        "\n",
        "# Menghitung jarak histogram (Euclidean distance)\n",
        "jarak_citra2 = distance.euclidean(histogram_r, np.histogram(citra2, bins=range(5))[0])\n",
        "jarak_citra3 = distance.euclidean(histogram_r, np.histogram(citra3, bins=range(5))[0])\n",
        "\n",
        "# Menampilkan hasil\n",
        "print(\"Jarak histogram antara citra 1 dan citra 2:\", jarak_citra2)\n",
        "print(\"Jarak histogram antara citra 1 dan citra 3:\", jarak_citra3)\n"
      ],
      "metadata": {
        "colab": {
          "base_uri": "https://localhost:8080/"
        },
        "id": "515mnrzEfGHd",
        "outputId": "a6ed892e-7ff8-49e2-b955-6a75f1c7435c"
      },
      "execution_count": null,
      "outputs": [
        {
          "output_type": "stream",
          "name": "stdout",
          "text": [
            "Jarak histogram antara citra 1 dan citra 2: 3.1622776601683795\n",
            "Jarak histogram antara citra 1 dan citra 3: 7.0710678118654755\n"
          ]
        }
      ]
    },
    {
      "cell_type": "code",
      "source": [
        "from skimage.feature import greycomatrix, greycoprops\n",
        "\n",
        "# Menghitung GLCM (Gray-Level Co-occurrence Matrix)\n",
        "glcm = greycomatrix(citra1, distances=[1], angles=[0], levels=4, symmetric=True, normed=True)\n",
        "\n",
        "# Menghitung moment warna order 1\n",
        "moment_warna = greycoprops(glcm, prop='contrast')[0, 0]\n",
        "\n",
        "# Menghitung energy\n",
        "energy = greycoprops(glcm, prop='energy')[0, 0]\n",
        "\n",
        "# Menghitung kontras\n",
        "kontras = greycoprops(glcm, prop='contrast')[0, 0]\n",
        "\n",
        "# Menghitung homogenitas\n",
        "homogenitas = greycoprops(glcm, prop='homogeneity')[0, 0]\n",
        "\n",
        "# Menampilkan hasil\n",
        "print(\"Moment Warna Order 1:\", moment_warna)\n",
        "print(\"Energy:\", energy)\n",
        "print(\"Kontras:\", kontras)\n",
        "print(\"Homogenitas:\", homogenitas)\n"
      ],
      "metadata": {
        "colab": {
          "base_uri": "https://localhost:8080/"
        },
        "id": "oeBgO5i9fJAZ",
        "outputId": "5739ddd4-d10f-4aa8-ce95-c36d86708898"
      },
      "execution_count": null,
      "outputs": [
        {
          "output_type": "stream",
          "name": "stdout",
          "text": [
            "Moment Warna Order 1: 2.5\n",
            "Energy: 0.36324157862838946\n",
            "Kontras: 2.5\n",
            "Homogenitas: 0.45\n"
          ]
        },
        {
          "output_type": "stream",
          "name": "stderr",
          "text": [
            "/usr/local/lib/python3.10/dist-packages/skimage/feature/__init__.py:35: skimage_deprecation: Function ``greycomatrix`` is deprecated and will be removed in version 1.0. Use ``skimage.feature.graycomatrix`` instead.\n",
            "  removed_version='1.0')\n",
            "/usr/local/lib/python3.10/dist-packages/skimage/feature/__init__.py:42: skimage_deprecation: Function ``greycoprops`` is deprecated and will be removed in version 1.0. Use ``skimage.feature.graycoprops`` instead.\n",
            "  removed_version='1.0')\n",
            "/usr/local/lib/python3.10/dist-packages/skimage/feature/__init__.py:42: skimage_deprecation: Function ``greycoprops`` is deprecated and will be removed in version 1.0. Use ``skimage.feature.graycoprops`` instead.\n",
            "  removed_version='1.0')\n",
            "/usr/local/lib/python3.10/dist-packages/skimage/feature/__init__.py:42: skimage_deprecation: Function ``greycoprops`` is deprecated and will be removed in version 1.0. Use ``skimage.feature.graycoprops`` instead.\n",
            "  removed_version='1.0')\n",
            "/usr/local/lib/python3.10/dist-packages/skimage/feature/__init__.py:42: skimage_deprecation: Function ``greycoprops`` is deprecated and will be removed in version 1.0. Use ``skimage.feature.graycoprops`` instead.\n",
            "  removed_version='1.0')\n"
          ]
        }
      ]
    },
    {
      "cell_type": "code",
      "source": [
        "# Implementasi algoritma Rabin-Karp untuk mencari similarity antara dua kalimat\n",
        "def rabin_karp_similarity(text, pattern):\n",
        "    # Menghitung panjang teks dan pola\n",
        "    n = len(text)\n",
        "    m = len(pattern)\n",
        "\n",
        "    # Menghitung nilai hash dari pola\n",
        "    pattern_hash = hash(pattern)\n",
        "\n",
        "    # Menginisialisasi similarity\n",
        "    similarity = 0\n",
        "\n",
        "    # Iterasi melalui teks untuk mencari pola\n",
        "    for i in range(n - m + 1):\n",
        "        # Menghitung nilai hash dari substring teks yang sedang diperiksa\n",
        "        substring_hash = hash(text[i:i+m])\n",
        "\n",
        "        # Jika nilai hash dari substring sama dengan nilai hash pola, kita periksa secara langsung\n",
        "        if substring_hash == pattern_hash:\n",
        "            if text[i:i+m] == pattern:\n",
        "                similarity += 1\n",
        "\n",
        "    return similarity\n",
        "\n",
        "# Kalimat yang akan dibandingkan\n",
        "kalimat1 = \"Aku sedang belajar kecerdasan buatan\"\n",
        "kalimat2 = \"Mahasiswa yang cerdas selalu siap menerima tantangan\"\n",
        "\n",
        "# Menghitung similarity antara kedua kalimat\n",
        "similarity = rabin_karp_similarity(kalimat1, kalimat2)\n",
        "\n",
        "# Menampilkan hasil\n",
        "print(\"Similarity antara kedua kalimat:\", similarity)\n"
      ],
      "metadata": {
        "colab": {
          "base_uri": "https://localhost:8080/"
        },
        "id": "U5RD5MHjicic",
        "outputId": "5204275f-4615-464c-fc4c-58e579568200"
      },
      "execution_count": null,
      "outputs": [
        {
          "output_type": "stream",
          "name": "stdout",
          "text": [
            "Similarity antara kedua kalimat: 0\n"
          ]
        }
      ]
    },
    {
      "cell_type": "code",
      "source": [
        "!pip install ucimlrepo"
      ],
      "metadata": {
        "colab": {
          "base_uri": "https://localhost:8080/"
        },
        "id": "PoAr-oNvtQk-",
        "outputId": "0b7771a1-89c5-49e3-f1f1-b709eca90583"
      },
      "execution_count": null,
      "outputs": [
        {
          "output_type": "stream",
          "name": "stdout",
          "text": [
            "Collecting ucimlrepo\n",
            "  Downloading ucimlrepo-0.0.6-py3-none-any.whl (8.0 kB)\n",
            "Installing collected packages: ucimlrepo\n",
            "Successfully installed ucimlrepo-0.0.6\n"
          ]
        }
      ]
    },
    {
      "cell_type": "code",
      "source": [
        "from ucimlrepo import fetch_ucirepo, list_available_datasets\n",
        "\n",
        "# Check which datasets can be imported\n",
        "list_available_datasets()\n",
        "\n",
        "# Import dataset\n",
        "heart_disease = fetch_ucirepo(id=45)\n",
        "# Alternatively: fetch_ucirepo(name='Heart Disease')\n",
        "\n",
        "# Access data\n",
        "X = heart_disease.data.features\n",
        "y = heart_disease.data.targets\n",
        "# Train model e.g. sklearn.linear_model.LinearRegression().fit(X, y)\n",
        "\n",
        "# Access metadata\n",
        "print(heart_disease.metadata.uci_id)\n",
        "print(heart_disease.metadata.num_instances)\n",
        "print(heart_disease.metadata.additional_info.summary)\n",
        "\n",
        "# Access variable info in tabular format\n",
        "print(heart_disease.variables)\n"
      ],
      "metadata": {
        "id": "rFckLkJktXmn"
      },
      "execution_count": null,
      "outputs": []
    },
    {
      "cell_type": "code",
      "source": [
        "from sklearn.impute import SimpleImputer\n",
        "\n",
        "# Inisialisasi SimpleImputer dengan strategi mean (nilai rata-rata)\n",
        "imputer = SimpleImputer(strategy='mean')\n",
        "\n",
        "# Melakukan imputasi pada data X\n",
        "X_imputed = imputer.fit_transform(X)\n",
        "\n",
        "# Sekarang Anda dapat melakukan clustering dengan K-Means pada data yang telah diimputasi\n",
        "kmeans.fit(X_imputed)\n",
        "labels = kmeans.labels_\n",
        "\n",
        "# Visualisasi hasil clustering\n",
        "import matplotlib.pyplot as plt\n",
        "plt.scatter(X_imputed[:, 0], X_imputed[:, 1], c=labels, cmap='viridis')\n",
        "plt.xlabel('Fitur 1')\n",
        "plt.ylabel('Fitur 2')\n",
        "plt.title('Hasil Clustering dengan K-Means setelah Imputasi')\n",
        "plt.show()\n"
      ],
      "metadata": {
        "colab": {
          "base_uri": "https://localhost:8080/",
          "height": 507
        },
        "id": "kT4qkoDtuyD0",
        "outputId": "767d5425-27ea-43ed-e3a9-71ec673b37e8"
      },
      "execution_count": null,
      "outputs": [
        {
          "output_type": "stream",
          "name": "stderr",
          "text": [
            "/usr/local/lib/python3.10/dist-packages/sklearn/cluster/_kmeans.py:870: FutureWarning: The default value of `n_init` will change from 10 to 'auto' in 1.4. Set the value of `n_init` explicitly to suppress the warning\n",
            "  warnings.warn(\n"
          ]
        },
        {
          "output_type": "display_data",
          "data": {
            "text/plain": [
              "<Figure size 640x480 with 1 Axes>"
            ],
            "image/png": "[encoded data removed]"
          },
          "metadata": {}
        }
      ]
    }
  ]
}